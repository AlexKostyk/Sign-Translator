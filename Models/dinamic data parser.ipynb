{
 "cells": [
  {
   "cell_type": "code",
   "execution_count": 1,
   "metadata": {},
   "outputs": [],
   "source": [
    "import os\n",
    "import cv2\n",
    "import pandas as pd\n",
    "import numpy as np\n",
    "from PIL import Image"
   ]
  },
  {
   "cell_type": "code",
   "execution_count": 4,
   "metadata": {},
   "outputs": [
    {
     "name": "stdout",
     "output_type": "stream",
     "text": [
      "['down' 'right' 'shake' 'static' 'to_fist' 'up' 'z_write'] 7\n"
     ]
    }
   ],
   "source": [
    "data_path = './slovo/data'\n",
    "\n",
    "DATA_PATH = './sequence_data'\n",
    "\n",
    "# Чтение аннотационных файлов\n",
    "annotations_df = pd.read_csv(os.path.join('slovo','annotations.csv'), sep='\\t')\n",
    "\n",
    "actions_annotations_df = pd.read_csv(os.path.join('actions_annotations.csv'), sep=';')\n",
    "\n",
    "actions = np.unique(np.array(actions_annotations_df['action']))\n",
    "\n",
    "# actions = np.append(actions, 'none')\n",
    "\n",
    "gestures = np.array(actions_annotations_df['text'])\n",
    "\n",
    "# количество кадров в видео\n",
    "sequence_length = 30\n",
    "\n",
    "print(actions, len(actions))"
   ]
  },
  {
   "cell_type": "code",
   "execution_count": 5,
   "metadata": {},
   "outputs": [
    {
     "name": "stdout",
     "output_type": "stream",
     "text": [
      "Всего видео в датасете: 1700\n",
      "Среднее количество кадров: 45.32411764705882\n"
     ]
    }
   ],
   "source": [
    "# Подсчёт среднего количества кадров в видео из датасета\n",
    "gesture_count = 0\n",
    "total_length = 0\n",
    "\n",
    "for gesture in gestures:\n",
    "\n",
    "    # срез данных для текущего жеста\n",
    "    gestures_row = annotations_df[annotations_df['text'] == gesture]\n",
    "    for index, row in gestures_row.iterrows():\n",
    "        length = int(row['length'])\n",
    "\n",
    "        total_length += length\n",
    "        gesture_count += 1\n",
    "\n",
    "print(f'Всего видео в датасете: {gesture_count}\\nСреднее количество кадров: {total_length/gesture_count}')"
   ]
  },
  {
   "cell_type": "code",
   "execution_count": 6,
   "metadata": {},
   "outputs": [],
   "source": [
    "# создание папки для датасета\n",
    "try:\n",
    "    os.makedirs(os.path.join(DATA_PATH))\n",
    "except:\n",
    "    pass\n",
    "\n",
    "for action in actions:\n",
    "    sequence = 0\n",
    "\n",
    "    # создание папки для action\n",
    "    try:\n",
    "        os.makedirs(os.path.join(DATA_PATH, action))\n",
    "    except:\n",
    "        pass\n",
    "\n",
    "    # срез данных для текущего действия\n",
    "    actions_rows = actions_annotations_df[actions_annotations_df['action'] == action]\n",
    "    for index, row in actions_rows.iterrows():\n",
    "        gesture = row['text']\n",
    "\n",
    "        # срез данных для текущего жеста\n",
    "        gestures_row = annotations_df[annotations_df['text'] == gesture]\n",
    "        for index, row in gestures_row.iterrows():\n",
    "            attachment_id = row['attachment_id']\n",
    "            length = int(row['length'])\n",
    "\n",
    "            # Путь к видеофайлу\n",
    "            video_path = os.path.join(data_path, attachment_id + '.mp4')\n",
    "\n",
    "            # Проверка существования видеофайла\n",
    "            if not os.path.exists(video_path):\n",
    "                print(\"Видеофайл {} не найден\".format(video_path))\n",
    "                continue\n",
    "\n",
    "            # создание папки для последовательности кадров\n",
    "            try:\n",
    "                os.makedirs(os.path.join(DATA_PATH, action, str(sequence)))\n",
    "            except:\n",
    "                pass\n",
    "\n",
    "            # Чтение видеофайла\n",
    "            cap = cv2.VideoCapture(video_path)\n",
    "\n",
    "            image = None\n",
    "            frame_count = 0\n",
    "\n",
    "            for frame_num in range(length):\n",
    "                # Read frame\n",
    "                ret, frame = cap.read()\n",
    "\n",
    "                if ret == False:\n",
    "                    continue\n",
    "                \n",
    "                # 10 кадров в начале обрезаются и обрезаются 5 последних кадров\n",
    "                if frame_num >= 40 or frame_num < 10:\n",
    "                    continue\n",
    "\n",
    "                frame_path = os.path.join(DATA_PATH, action, str(sequence), str(frame_count) + '.jpg')\n",
    "                rgb_frame = cv2.cvtColor(frame, cv2.COLOR_BGR2RGB)\n",
    "                image = Image.fromarray(rgb_frame)\n",
    "                image.save(frame_path)\n",
    "\n",
    "                frame_count += 1\n",
    "\n",
    "            # дублирование последнего кадра при малом количестве кадров\n",
    "            length_tmp = length\n",
    "            while length_tmp < 40:\n",
    "                frame_path = os.path.join(DATA_PATH, action, str(sequence), str(length_tmp - 10) + '.jpg')\n",
    "                image.save(frame_path)\n",
    "                length_tmp += 1\n",
    "\n",
    "            sequence += 1\n",
    "            cap.release()\n"
   ]
  },
  {
   "cell_type": "code",
   "execution_count": 7,
   "metadata": {},
   "outputs": [],
   "source": [
    "# запись своего датасета\n",
    "DATA_PATH = './sequence_data'\n",
    "\n",
    "no_sequences = 60 # количество видео в датасете у каждого класса\n",
    "sequence_length = 30 # количество кадров в последовательности\n",
    "\n",
    "cap = cv2.VideoCapture(0)\n",
    "\n",
    "action = 'down'\n",
    "\n",
    "# Loop through sequences aka videos\n",
    "for sequence in range(no_sequences):\n",
    "    # Loop through video length aka sequence length\n",
    "    for frame_num in range(sequence_length):\n",
    "\n",
    "        if frame_num == 0:\n",
    "            cv2.waitKey(2000)\n",
    "\n",
    "        # Read feed\n",
    "        ret, frame = cap.read()\n",
    "        rgb_frame = cv2.cvtColor(frame, cv2.COLOR_BGR2RGB)\n",
    "                \n",
    "        cv2.putText(frame, 'Collecting frames for {} Video Number {}'.format(action, sequence), (15,12), \n",
    "                    cv2.FONT_HERSHEY_SIMPLEX, 0.5, (0, 0, 255), 1, cv2.LINE_AA)\n",
    "        # Show to screen\n",
    "        cv2.imshow('OpenCV Feed', frame)\n",
    "\n",
    "        try:\n",
    "            os.makedirs(os.path.join(DATA_PATH, action, str(sequence)))\n",
    "        except:\n",
    "            pass\n",
    "\n",
    "        frame_path = os.path.join(DATA_PATH, action, str(sequence), str(frame_num) + '.jpg')\n",
    "        image = Image.fromarray(rgb_frame)\n",
    "        image.save(frame_path)                \n",
    "\n",
    "        # Break gracefully\n",
    "        if cv2.waitKey(10) & 0xFF == ord('q'):\n",
    "            break\n",
    "                    \n",
    "cap.release()\n",
    "cv2.destroyAllWindows()"
   ]
  },
  {
   "cell_type": "code",
   "execution_count": 23,
   "metadata": {},
   "outputs": [],
   "source": [
    "cap.release()\n",
    "cv2.destroyAllWindows()"
   ]
  }
 ],
 "metadata": {
  "kernelspec": {
   "display_name": "Python 3",
   "language": "python",
   "name": "python3"
  },
  "language_info": {
   "codemirror_mode": {
    "name": "ipython",
    "version": 3
   },
   "file_extension": ".py",
   "mimetype": "text/x-python",
   "name": "python",
   "nbconvert_exporter": "python",
   "pygments_lexer": "ipython3",
   "version": "3.9.13"
  }
 },
 "nbformat": 4,
 "nbformat_minor": 2
}
