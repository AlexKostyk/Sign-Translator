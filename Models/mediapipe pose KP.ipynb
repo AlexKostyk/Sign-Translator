{
 "cells": [
  {
   "cell_type": "code",
   "execution_count": 1,
   "metadata": {},
   "outputs": [],
   "source": [
    "import cv2\n",
    "import numpy as np\n",
    "import mediapipe as mp\n",
    "import os"
   ]
  },
  {
   "cell_type": "code",
   "execution_count": 2,
   "metadata": {},
   "outputs": [],
   "source": [
    "mp_pose = mp.solutions.pose \n",
    "pose = mp_pose.Pose( \n",
    "    static_image_mode=False,\n",
    "    model_complexity=2,\n",
    "    min_detection_confidence=0.5,\n",
    "    min_tracking_confidence=0.75) # чем больше значение тем больше задержка, но и лучшая надёжность решения\n",
    "\n",
    "mp_drawing = mp.solutions.drawing_utils # утилита для отрисовки ключевых точек\n"
   ]
  },
  {
   "cell_type": "code",
   "execution_count": 3,
   "metadata": {},
   "outputs": [],
   "source": [
    "# получение значений из results \n",
    "def extract_keypoints(results):\n",
    "    pose = np.array([[res.x, res.y, res.z, res.visibility] for res in results.pose_landmarks.landmark]).flatten() if results.pose_landmarks else np.zeros(33 * 4)\n",
    "\n",
    "    return pose "
   ]
  },
  {
   "cell_type": "code",
   "execution_count": 4,
   "metadata": {},
   "outputs": [],
   "source": [
    "def pose_detection(frame):\n",
    "    image = cv2.cvtColor(frame, cv2.COLOR_BGR2RGB)\n",
    "    image.flags.writeable = False\n",
    "    results = pose.process(image)\n",
    "    image.flags.writeable = True\n",
    "    image = cv2.cvtColor(image, cv2.COLOR_RGB2BGR)\n",
    "\n",
    "    return image, results"
   ]
  },
  {
   "cell_type": "code",
   "execution_count": 16,
   "metadata": {},
   "outputs": [
    {
     "name": "stdout",
     "output_type": "stream",
     "text": [
      "[ 0.32912534  0.87286383 -2.13815451  0.99956828  0.39153999  0.74069947\n",
      " -2.11188936  0.99905682  0.42467088  0.7376579  -2.11318445  0.99887073\n",
      "  0.45052028  0.73547298 -2.11302137  0.9988907   0.29006946  0.73620421\n",
      " -2.07211399  0.99946791  0.2633366   0.72864914 -2.07381773  0.99957126\n",
      "  0.24125774  0.72085595 -2.07514191  0.99961013  0.4900609   0.72536838\n",
      " -1.63054276  0.99926418  0.22781464  0.70737451 -1.45321333  0.99929881\n",
      "  0.4007321   0.93961966 -1.91969264  0.99672747  0.2817885   0.94465661\n",
      " -1.8774538   0.99725252  0.71448112  1.05242789 -1.18479621  0.99191028\n",
      "  0.09111948  1.00932145 -0.92027301  0.99110353  0.84957141  1.56674051\n",
      " -1.10043931  0.29313809 -0.01203647  1.53988922 -1.039644    0.2345634\n",
      "  0.82958281  1.9367615  -1.23577189  0.01989511 -0.01738218  1.75815904\n",
      " -1.55761194  0.06288922  0.84419382  2.05574059 -1.31300056  0.02866671\n",
      " -0.0337132   1.82875228 -1.68967021  0.08448915  0.81451845  2.02368999\n",
      " -1.39780271  0.0394153  -0.01894726  1.78230929 -1.76276708  0.11708564\n",
      "  0.7919749   1.9766891  -1.26437175  0.04156568  0.01221188  1.75764406\n",
      " -1.60293007  0.11590907  0.5554018   1.97341871 -0.06813078  0.11990069\n",
      "  0.23420949  1.92905986  0.0671818   0.17086606  0.51318651  2.68372107\n",
      " -0.15780905  0.00741641  0.2330883   2.5549593  -0.39374134  0.01314573\n",
      "  0.53499877  3.31730366  0.41418228  0.00380438  0.23356791  3.20331192\n",
      "  0.47764516  0.00575938  0.55955327  3.409302    0.44589052  0.00604452\n",
      "  0.24193886  3.29464555  0.55958074  0.00717268  0.43175822  3.53484797\n",
      " -0.01704374  0.00512724  0.23086894  3.42750597  0.26149389  0.00549574]\n"
     ]
    }
   ],
   "source": [
    "# Тест\n",
    "cap = cv2.VideoCapture(0)\n",
    "\n",
    "while cap.isOpened():\n",
    "        ret, frame = cap.read()\n",
    "\n",
    "        image, results = pose_detection(frame)\n",
    "\n",
    "        # Rendering Results\n",
    "        if results.pose_landmarks:\n",
    "        # to change the colors you use this mp.drawing\n",
    "            mp_drawing.draw_landmarks(image, results.pose_landmarks, mp_pose.POSE_CONNECTIONS,\n",
    "            mp_drawing.DrawingSpec(color=(0, 0, 0), thickness=2, circle_radius=4),\n",
    "            mp_drawing.DrawingSpec(color=(86, 45, 250), thickness=2, circle_radius=4), )\n",
    "                    \n",
    "        cv2.imshow('Hand Tracking', image)\n",
    "\n",
    "        if cv2.waitKey(10) & 0xFF == ord('q'):\n",
    "            break\n",
    "\n",
    "print(extract_keypoints(results))\n",
    "cap.release()\n",
    "cv2.destroyAllWindows()"
   ]
  },
  {
   "cell_type": "code",
   "execution_count": 5,
   "metadata": {},
   "outputs": [],
   "source": [
    "DATA_PATH = './sequence_data'\n",
    "NP_DATA_PATH = './np_sequence_data'\n",
    "\n",
    "actions = ['none', 'down', 'right', 'shake', 'static', 'to_fist', 'up', 'z_write']\n",
    "\n",
    "# создание папки для датасета\n",
    "try:\n",
    "    os.makedirs(NP_DATA_PATH)\n",
    "except FileExistsError:\n",
    "    pass\n",
    "\n",
    "for action in actions:\n",
    "\n",
    "    # создание папок для actions в np data\n",
    "    try:\n",
    "        os.makedirs(os.path.join(NP_DATA_PATH, action))\n",
    "    except FileExistsError:\n",
    "        pass\n",
    "\n",
    "    for subdir in os.listdir(os.path.join(DATA_PATH, action)):\n",
    "        # создание папок для последовтельности в actions np data\n",
    "        try:\n",
    "            os.makedirs(os.path.join(NP_DATA_PATH, action, subdir))\n",
    "        except FileExistsError:\n",
    "            pass\n",
    "        \n",
    "        file_count = 0\n",
    "        # Перебираем файлы в исходной вложенной папке\n",
    "        for filename in os.listdir(os.path.join(DATA_PATH, action, subdir)):\n",
    "            file_path = os.path.join(DATA_PATH, action, subdir, filename)\n",
    "\n",
    "            # Загружаем изображение с помощью OpenCV\n",
    "            image = cv2.imread(file_path)\n",
    "            image, results = pose_detection(image)\n",
    "\n",
    "            # Export keypoints\n",
    "            keypoints = extract_keypoints(results)\n",
    "\n",
    "            npy_path = os.path.join(NP_DATA_PATH, action, subdir, str(file_count))\n",
    "            np.save(npy_path, keypoints)\n",
    "\n",
    "            file_count += 1"
   ]
  }
 ],
 "metadata": {
  "kernelspec": {
   "display_name": "Python 3",
   "language": "python",
   "name": "python3"
  },
  "language_info": {
   "codemirror_mode": {
    "name": "ipython",
    "version": 3
   },
   "file_extension": ".py",
   "mimetype": "text/x-python",
   "name": "python",
   "nbconvert_exporter": "python",
   "pygments_lexer": "ipython3",
   "version": "3.9.13"
  }
 },
 "nbformat": 4,
 "nbformat_minor": 2
}
